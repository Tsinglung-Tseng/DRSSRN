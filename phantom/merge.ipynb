{
 "cells": [
  {
   "cell_type": "code",
   "execution_count": 1,
   "metadata": {},
   "outputs": [
    {
     "data": {
      "text/plain": [
       "'/home/qinglong/node3share/derenzo'"
      ]
     },
     "execution_count": 1,
     "metadata": {},
     "output_type": "execute_result"
    }
   ],
   "source": [
    "%pwd"
   ]
  },
  {
   "cell_type": "code",
   "execution_count": 3,
   "metadata": {},
   "outputs": [],
   "source": [
    "import tables as tb\n",
    "from tqdm import tqdm\n"
   ]
  },
  {
   "cell_type": "code",
   "execution_count": 18,
   "metadata": {},
   "outputs": [],
   "source": [
    "# file0 = tb.open_file('/home/qinglong/node3share/derenzo/0.h5', 'w')\n",
    "\n",
    "file1 = tb.open_file('/home/qinglong/node3share/derenzo/1.h5', 'r')\n",
    "file2 = tb.open_file('/home/qinglong/node3share/derenzo/2.h5', 'r')\n",
    "file3 = tb.open_file('/home/qinglong/node3share/derenzo/3.h5', 'r')\n",
    "file4 = tb.open_file('/home/qinglong/node3share/derenzo/4.h5', 'r')\n",
    "file5 = tb.open_file('/home/qinglong/node3share/derenzo/5.h5', 'r')\n",
    "file6 = tb.open_file('/home/qinglong/node3share/derenzo/6.h5', 'r')\n",
    "file7 = tb.open_file('/home/qinglong/node3share/derenzo/7.h5', 'r')\n",
    "file8 = tb.open_file('/home/qinglong/node3share/derenzo/8.h5', 'r')"
   ]
  },
  {
   "cell_type": "code",
   "execution_count": 14,
   "metadata": {},
   "outputs": [],
   "source": [
    "# d1 = file1.root.derenzo\n",
    "# # d0 = file0.root.derenzo"
   ]
  },
  {
   "cell_type": "code",
   "execution_count": 19,
   "metadata": {},
   "outputs": [],
   "source": [
    "from tables import IsDescription, Float32Col\n",
    "\n",
    "class Derenzo(IsDescription):\n",
    "    derenzo = Float32Col([256, 256])\n",
    "    value = Float32Col(2)\n",
    "\n",
    "dd = file0.create_table(file0.root, 'derenzo', Derenzo, 'Derenzo')\n",
    "derenzo_row = dd.row"
   ]
  },
  {
   "cell_type": "code",
   "execution_count": 12,
   "metadata": {},
   "outputs": [
    {
     "data": {
      "text/plain": [
       "/derenzo.row (Row), pointing to row #0"
      ]
     },
     "execution_count": 12,
     "metadata": {},
     "output_type": "execute_result"
    }
   ],
   "source": [
    "derenzo_row"
   ]
  },
  {
   "cell_type": "code",
   "execution_count": 20,
   "metadata": {},
   "outputs": [
    {
     "data": {
      "text/plain": [
       "File(filename=/home/qinglong/node3share/derenzo/0.h5, title='', mode='w', root_uep='/', filters=Filters(complevel=0, shuffle=False, bitshuffle=False, fletcher32=False, least_significant_digit=None))\n",
       "/ (RootGroup) ''\n",
       "/derenzo (Table(0,)) 'Derenzo'\n",
       "  description := {\n",
       "  \"derenzo\": Float32Col(shape=(256, 256), dflt=0.0, pos=0),\n",
       "  \"value\": Float32Col(shape=(2,), dflt=0.0, pos=1)}\n",
       "  byteorder := 'little'\n",
       "  chunkshape := (1,)"
      ]
     },
     "execution_count": 20,
     "metadata": {},
     "output_type": "execute_result"
    }
   ],
   "source": [
    "file0"
   ]
  },
  {
   "cell_type": "code",
   "execution_count": null,
   "metadata": {},
   "outputs": [],
   "source": []
  },
  {
   "cell_type": "code",
   "execution_count": 22,
   "metadata": {
    "scrolled": false
   },
   "outputs": [
    {
     "name": "stderr",
     "output_type": "stream",
     "text": [
      "100%|██████████| 10000/10000 [00:03<00:00, 2767.81it/s]\n",
      "100%|██████████| 10000/10000 [01:13<00:00, 136.94it/s]\n",
      "100%|██████████| 10000/10000 [01:19<00:00, 125.60it/s]\n",
      "100%|██████████| 10000/10000 [01:27<00:00, 113.73it/s]\n",
      "100%|██████████| 10000/10000 [00:03<00:00, 2542.85it/s]\n",
      "100%|██████████| 10000/10000 [00:04<00:00, 2493.63it/s]\n",
      "100%|██████████| 10000/10000 [00:08<00:00, 1237.05it/s]\n",
      "100%|██████████| 10000/10000 [00:29<00:00, 339.48it/s]\n"
     ]
    }
   ],
   "source": [
    "for f in [file1, file2, file3, file4, file5, file6, file7, file8]:\n",
    "    d1 = f.root.derenzo\n",
    "    for i in tqdm(range(10000)):\n",
    "        derenzo_row['derenzo'] = d1[i][0]\n",
    "        derenzo_row['value'] = d1[i][1]\n",
    "        derenzo_row.append()"
   ]
  },
  {
   "cell_type": "code",
   "execution_count": 23,
   "metadata": {},
   "outputs": [
    {
     "data": {
      "text/plain": [
       "/derenzo.row (Row), pointing to row #0"
      ]
     },
     "execution_count": 23,
     "metadata": {},
     "output_type": "execute_result"
    }
   ],
   "source": [
    "derenzo_row"
   ]
  },
  {
   "cell_type": "code",
   "execution_count": null,
   "metadata": {},
   "outputs": [],
   "source": []
  },
  {
   "cell_type": "code",
   "execution_count": null,
   "metadata": {},
   "outputs": [],
   "source": []
  },
  {
   "cell_type": "code",
   "execution_count": null,
   "metadata": {},
   "outputs": [],
   "source": [
    "file0.close()\n",
    "file1.close()\n",
    "file2.close()\n",
    "file3.close()\n",
    "file4.close()\n",
    "file5.close()\n",
    "file6.close()\n",
    "file7.close()\n",
    "file8.close()"
   ]
  },
  {
   "cell_type": "code",
   "execution_count": null,
   "metadata": {},
   "outputs": [],
   "source": []
  },
  {
   "cell_type": "code",
   "execution_count": null,
   "metadata": {},
   "outputs": [],
   "source": []
  },
  {
   "cell_type": "code",
   "execution_count": 5,
   "metadata": {},
   "outputs": [],
   "source": [
    "file0 = tb.open_file('/home/qinglong/node3share/derenzo/D_1.h5', 'r')"
   ]
  },
  {
   "cell_type": "code",
   "execution_count": 7,
   "metadata": {},
   "outputs": [
    {
     "data": {
      "text/plain": [
       "File(filename=/home/qinglong/node3share/derenzo/D_1.h5, title='', mode='r', root_uep='/', filters=Filters(complevel=0, shuffle=False, bitshuffle=False, fletcher32=False, least_significant_digit=None))\n",
       "/ (RootGroup) ''\n",
       "/derenzo (Table(80000,)) 'Derenzo'\n",
       "  description := {\n",
       "  \"derenzo\": Float32Col(shape=(256, 256), dflt=0.0, pos=0),\n",
       "  \"value\": Float32Col(shape=(2,), dflt=0.0, pos=1)}\n",
       "  byteorder := 'little'\n",
       "  chunkshape := (1,)"
      ]
     },
     "execution_count": 7,
     "metadata": {},
     "output_type": "execute_result"
    }
   ],
   "source": [
    "file0"
   ]
  },
  {
   "cell_type": "code",
   "execution_count": 9,
   "metadata": {},
   "outputs": [],
   "source": [
    "import matplotlib.pyplot as plt"
   ]
  },
  {
   "cell_type": "code",
   "execution_count": 14,
   "metadata": {},
   "outputs": [
    {
     "data": {
      "text/plain": [
       "<matplotlib.image.AxesImage at 0x7f1c08a57198>"
      ]
     },
     "execution_count": 14,
     "metadata": {},
     "output_type": "execute_result"
    },
    {
     "data": {
      "image/png": "[encoded data removed]",
      "text/plain": [
       "<Figure size 432x288 with 1 Axes>"
      ]
     },
     "metadata": {},
     "output_type": "display_data"
    }
   ],
   "source": [
    "plt.imshow(file0.root.derenzo[34536][0])"
   ]
  },
  {
   "cell_type": "code",
   "execution_count": null,
   "metadata": {},
   "outputs": [],
   "source": []
  }
 ],
 "metadata": {
  "kernelspec": {
   "display_name": "Python 3",
   "language": "python",
   "name": "python3"
  },
  "language_info": {
   "codemirror_mode": {
    "name": "ipython",
    "version": 3
   },
   "file_extension": ".py",
   "mimetype": "text/x-python",
   "name": "python",
   "nbconvert_exporter": "python",
   "pygments_lexer": "ipython3",
   "version": "3.6.5"
  }
 },
 "nbformat": 4,
 "nbformat_minor": 2
}
